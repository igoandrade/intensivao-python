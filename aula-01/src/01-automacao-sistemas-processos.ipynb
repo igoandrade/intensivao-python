{
 "cells": [
  {
   "cell_type": "markdown",
   "metadata": {},
   "source": [
    "# Automação de Sistemas e Processos com Python"
   ]
  },
  {
   "cell_type": "markdown",
   "metadata": {},
   "source": [
    "**Desafio:**\n",
    "\n",
    "Todos os dias, o nosso sistema atualiza as vendas do dia anterior. O seu trabalho diário, como analista, é enviar um e-mail para a diretoria contendo o faturamento e a quantidade de produtos vendidos no dia anterior.\n",
    "\n",
    "E-mail da diretoria: igoandrade.314@gmail.com\n",
    "\n",
    "Local onde o sistema disponibiliza as vendas do dia anterior: \n",
    "https://drive.google.com/drive/folders/149xknr9JvrlEnhNWO49zPcw0PW5icxga\n",
    "\n",
    "Para resolver o problea, vamos usar o pyautogui, uma biblioteca de automação de comandos do mouse e do teclado.\n",
    "\n",
    "Referência: https://pyautogui.readthedocs.io/en/latest/quickstart.html\n"
   ]
  },
  {
   "cell_type": "markdown",
   "metadata": {},
   "source": [
    "**Bibliotecas importadas:**"
   ]
  },
  {
   "cell_type": "code",
   "execution_count": 1,
   "metadata": {},
   "outputs": [
    {
     "data": {
      "text/plain": [
       "'pt_BR.UTF-8'"
      ]
     },
     "execution_count": 1,
     "metadata": {},
     "output_type": "execute_result"
    }
   ],
   "source": [
    "import time\n",
    "import pyautogui\n",
    "import pyperclip\n",
    "import pandas as pd\n",
    "import numpy as np\n",
    "import openpyxl\n",
    "\n",
    "import locale\n",
    "locale.setlocale(locale.LC_ALL, 'pt_BR.UTF-8')"
   ]
  },
  {
   "cell_type": "markdown",
   "metadata": {},
   "source": [
    "## Obtenção dos dados"
   ]
  },
  {
   "cell_type": "code",
   "execution_count": 2,
   "metadata": {},
   "outputs": [],
   "source": [
    "# Passo 1: Entrar no sistema da empresa (ex.: link do google drive)\n",
    "\n",
    "# Para abrir um programa:\n",
    "## pyautogui.press('win')\n",
    "## pyautogui.write('chrome')\n",
    "## pyautogui.press('enter')\n",
    "\n",
    "url = 'https://drive.google.com/drive/folders/149xknr9JvrlEnhNWO49zPcw0PW5icxga'\n",
    "pyautogui.hotkey('ctrl', 't')\n",
    "pyperclip.copy(url)\n",
    "pyautogui.hotkey('ctrl', 'v')\n",
    "pyautogui.press('enter')\n",
    "\n",
    "# Passo 2: Nevegar no sistema e encontrar a base de dados\n",
    "\n",
    "time.sleep(3)\n",
    "pyautogui.click(x=332, y=255, clicks=2)\n",
    "\n",
    "time.sleep(3)\n",
    "pyautogui.click(x=287, y=258, button='right')\n",
    "\n",
    "time.sleep(2)\n",
    "pyautogui.click(x=331, y=649)\n",
    "time.sleep(5)\n",
    "\n",
    "pyautogui.hotkey('ctrl', 'w')"
   ]
  },
  {
   "cell_type": "code",
   "execution_count": 3,
   "metadata": {},
   "outputs": [
    {
     "data": {
      "text/plain": [
       "Point(x=331, y=649)"
      ]
     },
     "execution_count": 3,
     "metadata": {},
     "output_type": "execute_result"
    }
   ],
   "source": [
    "time.sleep(5)\n",
    "pyautogui.position()"
   ]
  },
  {
   "cell_type": "markdown",
   "metadata": {},
   "source": [
    "## Cálculo dos indicadores\n",
    "\n",
    "* Faturamento\n",
    "* Quantidade de produtos vendidos"
   ]
  },
  {
   "cell_type": "code",
   "execution_count": 4,
   "metadata": {},
   "outputs": [
    {
     "data": {
      "text/html": [
       "<div>\n",
       "<style scoped>\n",
       "    .dataframe tbody tr th:only-of-type {\n",
       "        vertical-align: middle;\n",
       "    }\n",
       "\n",
       "    .dataframe tbody tr th {\n",
       "        vertical-align: top;\n",
       "    }\n",
       "\n",
       "    .dataframe thead th {\n",
       "        text-align: right;\n",
       "    }\n",
       "</style>\n",
       "<table border=\"1\" class=\"dataframe\">\n",
       "  <thead>\n",
       "    <tr style=\"text-align: right;\">\n",
       "      <th></th>\n",
       "      <th>Código Venda</th>\n",
       "      <th>Data</th>\n",
       "      <th>ID Loja</th>\n",
       "      <th>Produto</th>\n",
       "      <th>Quantidade</th>\n",
       "      <th>Valor Unitário</th>\n",
       "      <th>Valor Final</th>\n",
       "    </tr>\n",
       "  </thead>\n",
       "  <tbody>\n",
       "    <tr>\n",
       "      <th>0</th>\n",
       "      <td>65014</td>\n",
       "      <td>2019-12-01</td>\n",
       "      <td>Shopping Morumbi</td>\n",
       "      <td>Sunga Listrado</td>\n",
       "      <td>5</td>\n",
       "      <td>114</td>\n",
       "      <td>570</td>\n",
       "    </tr>\n",
       "    <tr>\n",
       "      <th>1</th>\n",
       "      <td>65014</td>\n",
       "      <td>2019-12-01</td>\n",
       "      <td>Shopping Morumbi</td>\n",
       "      <td>Casaco Listrado</td>\n",
       "      <td>1</td>\n",
       "      <td>269</td>\n",
       "      <td>269</td>\n",
       "    </tr>\n",
       "    <tr>\n",
       "      <th>2</th>\n",
       "      <td>65016</td>\n",
       "      <td>2019-12-01</td>\n",
       "      <td>Iguatemi Campinas</td>\n",
       "      <td>Sapato Listrado</td>\n",
       "      <td>2</td>\n",
       "      <td>363</td>\n",
       "      <td>726</td>\n",
       "    </tr>\n",
       "    <tr>\n",
       "      <th>3</th>\n",
       "      <td>65016</td>\n",
       "      <td>2019-12-01</td>\n",
       "      <td>Iguatemi Campinas</td>\n",
       "      <td>Casaco</td>\n",
       "      <td>1</td>\n",
       "      <td>250</td>\n",
       "      <td>250</td>\n",
       "    </tr>\n",
       "    <tr>\n",
       "      <th>4</th>\n",
       "      <td>65017</td>\n",
       "      <td>2019-12-01</td>\n",
       "      <td>Shopping SP Market</td>\n",
       "      <td>Gorro Liso</td>\n",
       "      <td>3</td>\n",
       "      <td>92</td>\n",
       "      <td>276</td>\n",
       "    </tr>\n",
       "  </tbody>\n",
       "</table>\n",
       "</div>"
      ],
      "text/plain": [
       "   Código Venda       Data             ID Loja          Produto  Quantidade  \\\n",
       "0         65014 2019-12-01    Shopping Morumbi   Sunga Listrado           5   \n",
       "1         65014 2019-12-01    Shopping Morumbi  Casaco Listrado           1   \n",
       "2         65016 2019-12-01   Iguatemi Campinas  Sapato Listrado           2   \n",
       "3         65016 2019-12-01   Iguatemi Campinas           Casaco           1   \n",
       "4         65017 2019-12-01  Shopping SP Market       Gorro Liso           3   \n",
       "\n",
       "   Valor Unitário  Valor Final  \n",
       "0             114          570  \n",
       "1             269          269  \n",
       "2             363          726  \n",
       "3             250          250  \n",
       "4              92          276  "
      ]
     },
     "execution_count": 4,
     "metadata": {},
     "output_type": "execute_result"
    }
   ],
   "source": [
    "# Passo 4: Importar a base de dados para o Python\n",
    "tabela = pd.read_excel(r\"D:\\Downloads\\Vendas - Dez.xlsx\")\n",
    "tabela.head()"
   ]
  },
  {
   "cell_type": "code",
   "execution_count": 5,
   "metadata": {},
   "outputs": [],
   "source": [
    "# Passo 5: Calcular os indicadores\n",
    "\n",
    "#  Faturamento\n",
    "faturamento = tabela['Valor Final'].sum()\n",
    "\n",
    "# Quantidade de produtos\n",
    "quantidade = tabela['Quantidade'].sum()"
   ]
  },
  {
   "cell_type": "markdown",
   "metadata": {},
   "source": [
    "## Enviar um relatório por e-mail"
   ]
  },
  {
   "cell_type": "code",
   "execution_count": 6,
   "metadata": {},
   "outputs": [],
   "source": [
    "# Passo 6: Enviar e-mail \n",
    "\n",
    "link_email = 'https://mail.google.com/mail/u/0/?tab=om#inbox'\n",
    "email_destinatario = 'igoandrade.314@gmail.com'\n",
    "assunto = 'Relatório de vendas'\n",
    "\n",
    "relatorio = f\"\"\"\n",
    "Bom dia\n",
    "\n",
    "O faturamento do dia anterior foi de {locale.currency(faturamento, grouping=True)}.\n",
    "A quantidade vendida foi {locale.format_string('%d', quantidade, grouping=True)} produtos.\n",
    "\n",
    "Atenciosamente,\n",
    "\n",
    "Igo da Costa Andrade\n",
    "\"\"\"\n",
    "\n",
    "pyautogui.hotkey('ctrl', 't')\n",
    "pyperclip.copy(link_email)\n",
    "pyautogui.hotkey('ctrl', 'v')\n",
    "pyautogui.press('enter')\n",
    "\n",
    "time.sleep(4)\n",
    "\n",
    "pyautogui.click(x=93, y=171)\n",
    "\n",
    "time.sleep(2)\n",
    "\n",
    "pyperclip.copy(email_destinatario)\n",
    "pyautogui.hotkey('ctrl', 'v')\n",
    "\n",
    "pyautogui.press('tab')\n",
    "pyperclip.copy(assunto)\n",
    "pyautogui.hotkey('ctrl', 'v')\n",
    "\n",
    "pyautogui.press('tab')\n",
    "pyperclip.copy(relatorio)\n",
    "pyautogui.hotkey('ctrl', 'v')\n",
    "\n",
    "pyautogui.press('tab')\n",
    "pyautogui.press('enter')\n",
    "\n",
    "pyautogui.hotkey('ctrl', 'w')"
   ]
  }
 ],
 "metadata": {
  "interpreter": {
   "hash": "4e8637987ca091e4cb2d56633832c9e7cafe99d25c5e9d15cb980156e31308d0"
  },
  "kernelspec": {
   "display_name": "Intensivão (venv)",
   "language": "python",
   "name": "venv"
  },
  "language_info": {
   "codemirror_mode": {
    "name": "ipython",
    "version": 3
   },
   "file_extension": ".py",
   "mimetype": "text/x-python",
   "name": "python",
   "nbconvert_exporter": "python",
   "pygments_lexer": "ipython3",
   "version": "3.10.0"
  }
 },
 "nbformat": 4,
 "nbformat_minor": 4
}
